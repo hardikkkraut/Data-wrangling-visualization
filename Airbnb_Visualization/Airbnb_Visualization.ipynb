{
 "cells": [
  {
   "cell_type": "code",
   "execution_count": null,
   "id": "efc31e15-c24c-447f-8954-c52cd4cff01c",
   "metadata": {},
   "outputs": [],
   "source": [
    "print(\"Data Visualization with Airbnb NYC Dataset\")"
   ]
  },
  {
   "cell_type": "code",
   "execution_count": null,
   "id": "c14a3b56-2b88-436a-bc7a-34cdd76bc0dc",
   "metadata": {},
   "outputs": [],
   "source": [
    "import os\n",
    "import pandas as pd\n",
    "import seaborn as sns\n",
    "import matplotlib.pyplot as plt"
   ]
  },
  {
   "cell_type": "code",
   "execution_count": null,
   "id": "4d9dc0a1-2925-4021-8bdc-11f52a374701",
   "metadata": {},
   "outputs": [],
   "source": [
    "sns.set(style='whitegrid')\n",
    "plt.rcParams['figure.figsize'] = (10, 6)"
   ]
  },
  {
   "cell_type": "code",
   "execution_count": null,
   "id": "54b9b4a9-0242-4a4a-a1e8-b78ebe169231",
   "metadata": {},
   "outputs": [],
   "source": [
    "df = pd.read_csv(\"C:\\\\Users\\\\Hardik\\\\Desktop\\\\Data-wrangling-visualization\\\\Airbnb_Visualization\\\\AB_NYC_2019.csv\")\n",
    "df.head()"
   ]
  },
  {
   "cell_type": "code",
   "execution_count": null,
   "id": "8bb26302-892c-4f97-90ff-c719c440f7dc",
   "metadata": {},
   "outputs": [],
   "source": [
    "# Check for missing values\n",
    "df.isnull().sum()"
   ]
  },
  {
   "cell_type": "code",
   "execution_count": null,
   "id": "d4eb58c4-1dce-44fe-a806-8648e82eb3ae",
   "metadata": {},
   "outputs": [],
   "source": [
    "# Drop rows with missing price or name\n",
    "df = df.dropna(subset=[\"name\", \"price\"])"
   ]
  },
  {
   "cell_type": "code",
   "execution_count": null,
   "id": "b9cbef82-2a13-4028-99b5-b0b5385f3184",
   "metadata": {},
   "outputs": [],
   "source": [
    "# Check for missing values\n",
    "df.isnull().sum()"
   ]
  },
  {
   "cell_type": "code",
   "execution_count": null,
   "id": "661d195c-4ac3-4beb-9c36-aba5002a0136",
   "metadata": {},
   "outputs": [],
   "source": [
    "# Fill missing reviews with 0\n",
    "df[\"reviews_per_month\"] = df[\"reviews_per_month\"].fillna(0)"
   ]
  },
  {
   "cell_type": "code",
   "execution_count": null,
   "id": "e7bbbdba-60fe-451f-9345-a16db0986cb4",
   "metadata": {},
   "outputs": [],
   "source": [
    "print(df[\"reviews_per_month\"].head(20))"
   ]
  },
  {
   "cell_type": "code",
   "execution_count": null,
   "id": "273bb30a-44ad-46c5-926e-9b4e39db5eb8",
   "metadata": {},
   "outputs": [],
   "source": [
    "avg_price = df.groupby(\"neighbourhood_group\")[\"price\"].mean().sort_values()\n",
    "\n",
    "sns.lineplot(x=avg_price.index, y=avg_price.values, marker='o')\n",
    "plt.title(\"Average Airbnb Price by Neighborhood Group\")\n",
    "plt.ylabel(\"Average Price ($)\")\n",
    "plt.xlabel(\"Neighborhood Group\")\n",
    "plt.tight_layout()\n"
   ]
  },
  {
   "cell_type": "code",
   "execution_count": null,
   "id": "1ad4c568-3321-478f-8b71-973e34d8c494",
   "metadata": {},
   "outputs": [],
   "source": [
    "# Ensure the directory exists\n",
    "os.makedirs(\"images\", exist_ok=True)"
   ]
  },
  {
   "cell_type": "code",
   "execution_count": null,
   "id": "f27f854d-257e-41e4-85be-0366399ce736",
   "metadata": {},
   "outputs": [],
   "source": [
    "# Save the figure\n",
    "plt.savefig(\"images/lineplot_avg_price.png\")\n",
    "plt.show()"
   ]
  },
  {
   "cell_type": "code",
   "execution_count": null,
   "id": "05061496-c277-470b-968c-7966c4e3e53a",
   "metadata": {},
   "outputs": [],
   "source": [
    "# Filter for reasonable prices to remove outliers\n",
    "df_price = df[df['price'] < 500]\n",
    "\n",
    "sns.histplot(df_price['price'], bins=40, kde=True)\n",
    "plt.title(\"Distribution of Airbnb Prices (Under $500)\")\n",
    "plt.xlabel(\"Price ($)\")\n",
    "plt.tight_layout()\n",
    "plt.savefig(\"images/histogram_price_distribution.png\")\n",
    "plt.show()\n"
   ]
  },
  {
   "cell_type": "code",
   "execution_count": null,
   "id": "1cb4dafe-1a64-45b5-bbe0-84a22b44f2ba",
   "metadata": {},
   "outputs": [],
   "source": [
    "sns.boxplot(x=\"room_type\", y=\"price\", data=df_price)\n",
    "plt.title(\"Price Distribution by Room Type\")\n",
    "plt.xlabel(\"Room Type\")\n",
    "plt.ylabel(\"Price ($)\")\n",
    "plt.tight_layout()\n",
    "plt.savefig(\"images/boxplot_room_type.png\")\n",
    "plt.show()\n"
   ]
  },
  {
   "cell_type": "code",
   "execution_count": null,
   "id": "9265cb39-ade4-4836-a46e-a2cab692796c",
   "metadata": {},
   "outputs": [],
   "source": [
    "# Filter again to remove extreme values\n",
    "df_scatter = df[(df['price'] < 500) & (df['number_of_reviews'] < 200)]"
   ]
  },
  {
   "cell_type": "code",
   "execution_count": null,
   "id": "9be4b4d9-3fa3-423d-a72a-1f743f78647d",
   "metadata": {},
   "outputs": [],
   "source": [
    "sns.scatterplot(x='number_of_reviews', y='price', hue='room_type', data=df_scatter)\n",
    "plt.title(\"Price vs. Number of Reviews by Room Type\")\n",
    "plt.xlabel(\"Number of Reviews\")\n",
    "plt.ylabel(\"Price ($)\")\n",
    "plt.tight_layout()\n",
    "plt.savefig(\"images/scatter_price_reviews.png\")\n",
    "plt.show()"
   ]
  },
  {
   "cell_type": "code",
   "execution_count": null,
   "id": "d701d538-9b47-486c-a18c-456ddea0a937",
   "metadata": {},
   "outputs": [],
   "source": [
    "num_cols = df[[\"price\", \"minimum_nights\", \"number_of_reviews\", \"reviews_per_month\", \"availability_365\"]]\n",
    "corr = num_cols.corr()\n",
    "\n",
    "sns.heatmap(corr, annot=True, cmap='coolwarm')\n",
    "plt.title(\"Correlation Heatmap of Numerical Features\")\n",
    "plt.tight_layout()\n",
    "plt.savefig(\"images/heatmap_correlation.png\")\n",
    "plt.show()\n"
   ]
  },
  {
   "cell_type": "code",
   "execution_count": null,
   "id": "19c83169-1a85-4c9a-a966-c42c1f7e154a",
   "metadata": {},
   "outputs": [],
   "source": [
    "print(\"✅ All plots generated and saved in 'images/' folder!\")\n"
   ]
  },
  {
   "cell_type": "code",
   "execution_count": null,
   "id": "0870129c-71f6-4641-92a9-5f23fec1c825",
   "metadata": {},
   "outputs": [],
   "source": []
  }
 ],
 "metadata": {
  "kernelspec": {
   "display_name": "base",
   "language": "python",
   "name": "python3"
  },
  "language_info": {
   "codemirror_mode": {
    "name": "ipython",
    "version": 3
   },
   "file_extension": ".py",
   "mimetype": "text/x-python",
   "name": "python",
   "nbconvert_exporter": "python",
   "pygments_lexer": "ipython3",
   "version": "3.13.5"
  }
 },
 "nbformat": 4,
 "nbformat_minor": 5
}
